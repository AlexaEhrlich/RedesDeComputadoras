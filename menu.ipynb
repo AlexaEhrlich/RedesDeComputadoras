{
 "cells": [
  {
   "cell_type": "code",
   "execution_count": 1,
   "metadata": {},
   "outputs": [],
   "source": [
    "from alfabetos import alfabeto_min, alfabeto_may, alfabeto_min_inv, alfabeto_may_inv, alfabeto_full, alfabeto_num\n",
    "import random\n",
    "import math"
   ]
  },
  {
   "cell_type": "code",
   "execution_count": 2,
   "metadata": {},
   "outputs": [],
   "source": [
    "def alfabetos(opcion):\n",
    "    if(opcion == 0):\n",
    "        alfabeto = alfabeto_min()\n",
    "    elif(opcion == 1):\n",
    "        alfabeto = alfabeto_may()\n",
    "    elif(opcion == 2):\n",
    "        alfabeto = alfabeto_min_inv()\n",
    "    elif(opcion == 3):\n",
    "        alfabeto = alfabeto_may_inv()\n",
    "    elif(opcion == 4):\n",
    "        alfabeto = alfabeto_full()\n",
    "    elif(opcion == 5):\n",
    "        alfabeto = alfabeto_num()\n",
    "    else:\n",
    "        print(\"Ingresa un valor válido perroo\")\n",
    "        return None\n",
    "    return alfabeto"
   ]
  },
  {
   "cell_type": "code",
   "execution_count": 3,
   "metadata": {},
   "outputs": [],
   "source": [
    "def Cesar(alfabeto, mensaje, clave, bandera):\n",
    "\n",
    "    alfabeto_cifrado = alfabetos(alfabeto)\n",
    "    \n",
    "    if(alfabeto_cifrado == None):\n",
    "        return\n",
    "    \n",
    "    for letra in mensaje:\n",
    "        if(letra not in alfabeto_cifrado):\n",
    "            print(\"Un caracter no se encuentra en el alfabeto seleccionado\")\n",
    "            return\n",
    "        \n",
    "    mensaje_cifrado = \"\" #Aqui va el texto cifrado\n",
    "\n",
    "    cifrado = bandera # Si es True, entonces se cifra (Desplazmoa a la derecha); Caso contrario, desciframos (Desplazamos a la izquierda)\n",
    "\n",
    "    for letra in mensaje: #Para cada letra del mensaje\n",
    "\n",
    "        posicion = alfabeto_cifrado.index(letra) #Obtenemos la posicion de la letra\n",
    "\n",
    "        if cifrado == True:\n",
    "            formula = (posicion + clave) % len(alfabeto_cifrado) #Desplazamos la posicion a la derecha\n",
    "        else:\n",
    "            formula = (posicion - clave) % len(alfabeto_cifrado) #Desplazamos la posicion a la izquierda\n",
    "\n",
    "        mensaje_cifrado += alfabeto_cifrado[formula] #Obtenemos la nueva letra para esa posicion\n",
    "\n",
    "    print(\"Texto plano: {}\".format(mensaje))\n",
    "    print(\"Texto cifrado: {}\".format(mensaje_cifrado))\n",
    "    return mensaje_cifrado"
   ]
  },
  {
   "cell_type": "code",
   "execution_count": 4,
   "metadata": {},
   "outputs": [],
   "source": [
    "def atbash(opcion, mensaje, bandera):\n",
    "    alfabeto = alfabeto_min()#\"ABCDEFGHIJKLMNOPQRSTUVWXYZ\" #Alfabeto plano\n",
    "    \n",
    "    cifra = alfabetos(opcion)\n",
    "    if(cifra == None):\n",
    "        return\n",
    "    \n",
    "    for letra in mensaje:\n",
    "        letra_index = mensaje.index(letra)\n",
    "        if(cifra[letra_index] == None):\n",
    "            print(\"Un caracter no se encuentra en el alfabeto seleccionado\")\n",
    "            return\n",
    "\n",
    "    if(bandera == False):\n",
    "        mensaje = mensaje.lower() #Convertimos el mensaje a mayusculas\n",
    "        mensaje_cifrado = \"\" #Aqui va el mensaje cifrado\n",
    "    elif(bandera == True):\n",
    "        mensaje_cifrado = mensaje\n",
    "        mensaje_plano = \"\"\n",
    "    else:\n",
    "        print(\"Ingresa un valor válido perroo\")\n",
    "        return\n",
    "        \n",
    "    if(bandera == False):\n",
    "        for letra in mensaje: #Recorremos todas las letras de mensaje\n",
    "\n",
    "            if letra in alfabeto: #Comprobamos que la letra esta en el alfabeto\n",
    "                posicion = alfabeto.index(letra) #Obtener la posicion de la letra en el alfabeto\n",
    "                letra_cifrada = cifra[posicion] #Obtener la letra en el alfabeto cifra\n",
    "                mensaje_cifrado += letra_cifrada #Añadimos la letra cifrada al mensaje \n",
    "\n",
    "            else:\n",
    "                mensaje_cifrado += letra #Si la letra no esta en el alfabeto, añadimos la letra sin cifrar\n",
    "\n",
    "        print(\"Texto plano: {}\".format(mensaje))\n",
    "        print(\"Texto cifrado: {}\".format(mensaje_cifrado))\n",
    "        return mensaje_cifrado  \n",
    "    elif(bandera == True):\n",
    "        for letra in mensaje_cifrado.upper(): #Transformamos a mayusculas el texto cifrado\n",
    "            \n",
    "            if letra in cifra: #Si la letra existe, buscar posicion\n",
    "                posicion = cifra.index(letra)\n",
    "                letra_plana = alfabeto[posicion] #Relacionamos la posicion con la letra\n",
    "                mensaje_plano += letra_plana\n",
    "\n",
    "            else:\n",
    "                mensaje_plano += letra #Si la letra no esta en el alfabeto, añadimos\n",
    "\n",
    "        print(\"Texto cifrado: {}\".format(mensaje_cifrado))\n",
    "        print(\"Texto plano: {}\".format(mensaje_plano))\n",
    "        return mensaje_plano\n",
    "    else:\n",
    "        print(\"Ingresa un valor válido perroo\")\n",
    "        return"
   ]
  },
  {
   "cell_type": "code",
   "execution_count": 5,
   "metadata": {},
   "outputs": [],
   "source": [
    "def sustitucionSimple(opcion, texto_plano, clave):#funcion para cifrar o descifrar\n",
    "    \n",
    "    alfabeto = alfabetos(opcion)\n",
    "    clave = alfabetos(clave)\n",
    "    if(alfabeto == None or clave == None):\n",
    "        return\n",
    "\n",
    "    texto_cifrado = \"\"#aqui va el texto cifrado\n",
    "    for letra in texto_plano:#para cada letra del texto plano\n",
    "        if letra in alfabeto: #si la letra esta en el alfabeto\n",
    "            pos = alfabeto.index(letra) #obtenemos posicion\n",
    "            letra_cifrada = clave[pos] #obtenemos letra correspondiente\n",
    "            texto_cifrado += letra_cifrada\n",
    "\n",
    "        else: #si la letra no esta en el alfabeto\n",
    "            letra_cifrada = letra #no ciframos la letra\n",
    "            texto_cifrado += letra_cifrada\n",
    "            \n",
    "    print(\"Texto plano: {}\".format(texto_plano))\n",
    "    print(\"Texto cifrado: {}\".format(texto_cifrado))\n",
    "    return texto_cifrado"
   ]
  },
  {
   "cell_type": "code",
   "execution_count": 6,
   "metadata": {},
   "outputs": [],
   "source": [
    "def agrupar(texto, n):\n",
    "    mensajeGrupo = \"\" #Aqui se almacena el mensaje de grupos de letras\n",
    "    grupo = n #Numero de letras por grupo\n",
    "\n",
    "    for i in range(0, len(texto)):\n",
    "        if i%grupo == 0 and i != 0:\n",
    "            mensajeGrupo += \" \" #Añadimos separacion\n",
    "            mensajeGrupo += texto[i] #Añadimos la letra en la posicion i perteneciente al texto\n",
    "        else:\n",
    "            mensajeGrupo += texto[i] #Solo añadimos la letra\n",
    "\n",
    "    return mensajeGrupo\n",
    "\n",
    "#mensajeNuevo = eliminarEspacios(mensaje_plano)\n",
    "#mensajeNuevo = agrupar(mensajeNuevo, 3)\n",
    "#print(mensajeNuevo)\n",
    "\n",
    "#Funcion cifrado transposicion\n",
    "def cifrar(texto, clave):\n",
    "    mensaje_cifrado = [\"\"]*clave #Aqui se almacena el mensaje cifrado\n",
    "\n",
    "    for columna in range(clave):\n",
    "        pos = columna\n",
    "\n",
    "        while pos < len(texto): #Mientras la posicion sea menor que la longitud del mensaje\n",
    "            mensaje_cifrado[columna] += texto[pos] #Añadimos al primer grupo de letras lo que haya en la posicion\n",
    "            pos += clave #Hemos de sumar la clave\n",
    "\n",
    "    #'-'.join(mensaje_cifrado)\n",
    "\n",
    "    return ''.join(mensaje_cifrado)\n"
   ]
  },
  {
   "cell_type": "code",
   "execution_count": 7,
   "metadata": {},
   "outputs": [],
   "source": [
    "def descifrarColumnar(texto, clave):\n",
    "\n",
    "    num_filas = clave #El numero de filas equivale a la clave\n",
    "    num_col = math.ceil(len(texto)/clave) #El metodo ceil nos devuelve el entero siguiente\n",
    "    celdas_vacias = num_filas * num_col - len(texto) #Calculamos el numero de letras vacias\n",
    "\n",
    "    texto_plano = [''] * num_col #Creamos una lista con tantos elementos como columnas\n",
    "\n",
    "    print(texto_plano)\n",
    "    col = 0\n",
    "    fila = 0\n",
    "\n",
    "    for letra in texto:\n",
    "\n",
    "        texto_plano[col] += letra\n",
    "        col += 1\n",
    "\n",
    "        if (col == num_col) or (col == num_col - 1 and fila >= num_filas - celdas_vacias):\n",
    "            col = 0\n",
    "            fila += 1\n",
    "\n",
    "    return ''.join(texto_plano)"
   ]
  },
  {
   "cell_type": "code",
   "execution_count": 8,
   "metadata": {},
   "outputs": [],
   "source": [
    "def transColumnar(mensaje_plano, clave, bandera):\n",
    "\n",
    "    if(bandera == False):\n",
    "        print(\"Texto Plano: {}\".format(mensaje_plano))\n",
    "        #mensaje_plano = eliminarEspacios(mensaje_plano)\n",
    "        mensaje_plano.replace(\" \", \"\")\n",
    "        print(\"Texto Plano Sin Espacios: {}\".format(mensaje_plano))\n",
    "        mensaje_cifrado = cifrar(mensaje_plano, clave)\n",
    "        mensaje_cifrado = agrupar(mensaje_cifrado, 4)\n",
    "        print(\"Texto Cifrado: {}\".format(mensaje_cifrado))\n",
    "        return mensaje_cifrado\n",
    "\n",
    "    elif(bandera == True):\n",
    "        mensajeNuevo = mensaje_plano.replace(\" \", \"\")\n",
    "        mensaje_descifrado = descifrarColumnar(mensajeNuevo, clave).lower()\n",
    "        print(\"Texto Cifrado: {}\".format(mensajeNuevo))\n",
    "        print(\"Texto Plano: {}\".format(mensaje_descifrado))\n",
    "        return mensaje_decifrado\n",
    "    else:\n",
    "        print(\"Introduce un valor válido perroo\")\n"
   ]
  },
  {
   "cell_type": "code",
   "execution_count": 9,
   "metadata": {},
   "outputs": [],
   "source": [
    "def traductor_mensaje(opcion,clave,mensa,accion):\n",
    "    LETRAS = cifra = alfabetos(opcion)\n",
    "    traducido=[]\n",
    "    indice_clave=0\n",
    "    clave=clave.upper()\n",
    "\n",
    "    for symbol in mensa:\n",
    "        num=LETRAS.find(symbol.upper())\n",
    "        if num!=-1:\n",
    "            if accion=='encriptar':\n",
    "                num+=LETRAS.find(clave[indice_clave])\n",
    "            elif accion=='descifrar':\n",
    "                num-=LETRAS.find(clave[indice_clave])\n",
    "            num%=len(LETRAS)\n",
    "            if symbol.isupper():\n",
    "                traducido.append(LETRAS[num])\n",
    "            elif symbol.islower():\n",
    "                traducido.append(LETRAS[num].lower())\n",
    "            indice_clave+=1\n",
    "            if indice_clave==len(clave):\n",
    "                indice_clave=0\n",
    "\n",
    "        else:\n",
    "            traducido.append(symbol)\n",
    "    return ('').join(traducido)"
   ]
  },
  {
   "cell_type": "code",
   "execution_count": 10,
   "metadata": {},
   "outputs": [],
   "source": [
    "def vigenere(opcion, mensa, myKey, bandera):\n",
    "    if bandera == False:\n",
    "        traducido = traductor_mensaje(opcion,clave,mensa,'encriptar')\n",
    "    elif bandera == True:\n",
    "        traducido = traductor_mensaje(opcion,clave,mensa,'descifrar')\n",
    "    print(traducido)\n",
    "    return traducido"
   ]
  },
  {
   "cell_type": "code",
   "execution_count": 14,
   "metadata": {},
   "outputs": [
    {
     "name": "stdout",
     "output_type": "stream",
     "text": [
      "Cifrador/Descifrador\n"
     ]
    },
    {
     "name": "stdin",
     "output_type": "stream",
     "text": [
      "Ingresa 0 para salir, otro numero para continuar 1\n"
     ]
    },
    {
     "name": "stdout",
     "output_type": "stream",
     "text": [
      "\n",
      "Introduce el valor correspondiente al alfabeto deseado:\n",
      "0 - alfabeto_min\n",
      "1 - alfabeto_may\n",
      "2 - alfabeto_min_inv\n",
      "3 - alfabeto_may_inv\n",
      "4 - alfabeto_full\n",
      "5 - alfabeto_num\n"
     ]
    },
    {
     "name": "stdin",
     "output_type": "stream",
     "text": [
      "\n",
      " 1\n",
      "Introduce el mensaje:  HOLA\n",
      "\n",
      "Introduce 0 para Cifrar o 1 para Descifrar:  0\n"
     ]
    },
    {
     "name": "stdout",
     "output_type": "stream",
     "text": [
      "\n",
      "Selecciona el metodo a utilizar:\n",
      "0 - Cesar\n",
      "1 - Atbash\n",
      "2 - sustitucionSimple\n",
      "3 - transColumnar\n",
      "4 - vigenere\n"
     ]
    },
    {
     "name": "stdin",
     "output_type": "stream",
     "text": [
      "\n",
      " 0\n",
      "\n",
      "Introduce tu clave:  2\n"
     ]
    },
    {
     "name": "stdout",
     "output_type": "stream",
     "text": [
      "Texto plano: HOLA\n",
      "Texto cifrado: FMJY\n"
     ]
    },
    {
     "name": "stdin",
     "output_type": "stream",
     "text": [
      "Ingresa 0 para salir, otro numero para continuar 1\n"
     ]
    },
    {
     "name": "stdout",
     "output_type": "stream",
     "text": [
      "\n",
      "Introduce el valor correspondiente al alfabeto deseado:\n",
      "0 - alfabeto_min\n",
      "1 - alfabeto_may\n",
      "2 - alfabeto_min_inv\n",
      "3 - alfabeto_may_inv\n",
      "4 - alfabeto_full\n",
      "5 - alfabeto_num\n"
     ]
    },
    {
     "name": "stdin",
     "output_type": "stream",
     "text": [
      "\n",
      " 1\n",
      "\n",
      "Introduce 0 para Cifrar o 1 para Descifrar:  1\n"
     ]
    },
    {
     "name": "stdout",
     "output_type": "stream",
     "text": [
      "\n",
      "Selecciona el metodo a utilizar:\n",
      "0 - Cesar\n",
      "1 - Atbash\n",
      "2 - sustitucionSimple\n",
      "3 - transColumnar\n",
      "4 - vigenere\n"
     ]
    },
    {
     "name": "stdin",
     "output_type": "stream",
     "text": [
      "\n",
      " 0\n",
      "\n",
      "Introduce tu clave:  2\n"
     ]
    },
    {
     "name": "stdout",
     "output_type": "stream",
     "text": [
      "Texto plano: FMJY\n",
      "Texto cifrado: HOLA\n"
     ]
    },
    {
     "name": "stdin",
     "output_type": "stream",
     "text": [
      "Ingresa 0 para salir, otro numero para continuar 0\n"
     ]
    }
   ],
   "source": [
    "print(\"Cifrador/Descifrador\")\n",
    "mensaje = None\n",
    "while True:\n",
    "    val= int(input(\"Ingresa 0 para salir, otro numero para continuar\"))\n",
    "    if val == 0:\n",
    "        break\n",
    "    else:\n",
    "        print(\"\\nIntroduce el valor correspondiente al alfabeto deseado:\")\n",
    "        print(\"0 - alfabeto_min\")\n",
    "        print(\"1 - alfabeto_may\")\n",
    "        print(\"2 - alfabeto_min_inv\")\n",
    "        print(\"3 - alfabeto_may_inv\")\n",
    "        print(\"4 - alfabeto_full\")\n",
    "        print(\"5 - alfabeto_num\")\n",
    "        alfabeto = int(input(\"\\n\"))\n",
    "        if mensaje == None:\n",
    "            mensaje = input(\"Introduce el mensaje: \")\n",
    "        bandera = bool(int(input(\"\\nIntroduce 0 para Cifrar o 1 para Descifrar: \")))\n",
    "        print(\"\\nSelecciona el metodo a utilizar:\")\n",
    "        print(\"0 - Cesar\")\n",
    "        print(\"1 - Atbash\")\n",
    "        print(\"2 - sustitucionSimple\")\n",
    "        print(\"3 - transColumnar\")\n",
    "        print(\"4 - vigenere\")\n",
    "        metodo = int(input(\"\\n\"))\n",
    "        if metodo == 0:\n",
    "            clave = int(input(\"\\nIntroduce tu clave: \"))\n",
    "            mensaje = Cesar(alfabeto, mensaje, clave, bandera)\n",
    "        elif metodo == 1:\n",
    "            clave = int(input(\"\\nIntroduce tu clave: \"))\n",
    "            mensaje = atbash(alfabeto, mensaje, bandera)\n",
    "        elif metodo == 2:\n",
    "            clave = int(input(\"\\nIntroduce tu clave: \"))\n",
    "            sustitucionSimple(alfabeto , mensaje, clave)\n",
    "        elif metodo == 3:\n",
    "            clave = int(input(\"\\nIntroduce tu clave: \"))\n",
    "            mensaje = transColumnar(mensaje, clave, bandera)\n",
    "        elif metodo == 4:\n",
    "            clave = input(\"\\nIntroduce tu clave: \")\n",
    "            mensaje = vigenere(alfabeto, mensaje, clave, bandera)\n"
   ]
  }
 ],
 "metadata": {
  "kernelspec": {
   "display_name": "Python 3",
   "language": "python",
   "name": "python3"
  },
  "language_info": {
   "codemirror_mode": {
    "name": "ipython",
    "version": 3
   },
   "file_extension": ".py",
   "mimetype": "text/x-python",
   "name": "python",
   "nbconvert_exporter": "python",
   "pygments_lexer": "ipython3",
   "version": "3.8.3"
  }
 },
 "nbformat": 4,
 "nbformat_minor": 4
}
